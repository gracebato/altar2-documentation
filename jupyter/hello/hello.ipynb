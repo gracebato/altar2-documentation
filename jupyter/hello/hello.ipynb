{
 "cells": [
  {
   "cell_type": "markdown",
   "metadata": {},
   "source": [
    "\n",
    "# Introduction to AlTar/Pyre applications\n"
   ]
  },
  {
   "cell_type": "markdown",
   "metadata": {},
   "source": [
    "### 1. Introduction\n",
    "\n",
    "An AlTar application is based on the [pyre](https://github.com/pyre/pyre) framework. Compared with traditional Python programming, the `pyre` framework provides enhanced features for developing high performance scientific applications, including\n",
    "\n",
    "- It introduces configurable components. Users may want to choose between different algorithms/methods for a given procedure, which in general requires developing new applications and/or recompiling the source code. With configurable components, users can now specify their choices at runtime with the same application.  \n",
    "\n",
    "- It offers users an easy way to configure parameters/settings in an application. To pass parameters through command line (e.g, by `argparse`) and property `setter` is usually a formidable task for applications with a large parameter set. In pyre, this can be done by one `json`-type configuration file.\n",
    "\n",
    "- An AlTar/pyre application can deploy itself automatically to different computing platforms, such as a standalone computer, GPU workstations, computer clusters or clouds, with a simple change of the `shell` configuration. \n",
    "\n",
    "- Pyre also integrates supports to [GNU Scientific Library](https://www.gnu.org/software/gsl/) (for linear algebra and statistics), and [CUDA](https://developer.nvidia.com/cuda-downloads) (for GPU accelerated computing), to achieve high performance while maintaining the user-friendly interface offered by Python. It also offers an easy procedure for users to develop their own applications with mixed Python/C/C++/Fortran/CUDA programming. \n",
    "\n",
    "To achieve above goals, An AlTar/pyre application is constructed and runs slightly different from regular Python script applications. In this tutorial, we will use a `Hello world!` application to demonstrate the structure of an AlTar application."
   ]
  },
  {
   "cell_type": "markdown",
   "metadata": {},
   "source": [
    "### 2. The Hello application\n",
    "\n",
    "We create below an application to say \"Hello\" to someone (parameter `who`)  several times (parameter `times`)."
   ]
  },
  {
   "cell_type": "code",
   "execution_count": 1,
   "metadata": {},
   "outputs": [],
   "source": [
    "# import the altar module\n",
    "import altar\n",
    "\n",
    "# create an application based on altar.application\n",
    "class HelloApp(altar.application, family='altar.applications.hello'):\n",
    "    \"\"\"\n",
    "    A specialized AlTar application to say hello \n",
    "    \"\"\"\n",
    "    \n",
    "    # user configurable parameters/components\n",
    "    who = altar.properties.str(default='world')\n",
    "    who.doc = \"the person to say hello to\"\n",
    "    \n",
    "    times = altar.properties.int(default=1)\n",
    "    times.validators = altar.constraints.isPositive()\n",
    "    times.doc = \"how many times you want to say hello\"\n",
    "    \n",
    "    # define methods\n",
    "    def main(self):\n",
    "        \"\"\"\n",
    "        The main method\n",
    "        \"\"\"\n",
    "        for i in range(self.times):\n",
    "            print(f\"Hello {self.who}!\")\n",
    "        # all done\n",
    "        return"
   ]
  },
  {
   "cell_type": "markdown",
   "metadata": {},
   "source": [
    "The `HelloApp` application is derived from the `altar.application` base class in order to inherit various features offered by the pyre framework. It has two configurable components, `who` and `times`. The components can be basic Python data types, specified by altar.properties.[int, float, str, list, dict ...], or user developed class .\n",
    "\n",
    "To run the HelloApp, we create an instance with a name='hello'. We pass the settings of `who` and `times` by a configuration file [hello.pfg](hello.pfg) (by default, the instance searches for a `NAME.pfg` configuration file with `NAME` the same as the instance name): \n",
    "\n",
    "```\n",
    "; application instance name\n",
    "hello:\n",
    "    ; components configuration\n",
    "    who = AlTar users ; no start/end quotes for strings are needed in pfg file\n",
    "    times = 3\n",
    "```\n",
    "In a `pfg` (pyre-config) configuration file, indents are used to show hierarchy of each configurable components. An alternative is to use Python style, e.g., \n",
    "\n",
    "```\n",
    "; an alternative way to write configurations\n",
    "hello.who = AlTar users\n",
    "hello.times = 3\n",
    "```\n"
   ]
  },
  {
   "cell_type": "code",
   "execution_count": 2,
   "metadata": {},
   "outputs": [
    {
     "name": "stdout",
     "output_type": "stream",
     "text": [
      "Hello AlTar users!\n",
      "Hello AlTar users!\n",
      "Hello AlTar users!\n"
     ]
    }
   ],
   "source": [
    "# create a HelloApp instance with a name\n",
    "helloapp = HelloApp(name='hello')\n",
    "# when it is created, it searches for settings in hello.pfg, if present, to initialize configurable components\n",
    "\n",
    "# run the instance main method\n",
    "helloapp.main()"
   ]
  },
  {
   "cell_type": "markdown",
   "metadata": {},
   "source": [
    "Once an instance is created(registered), all its components are processed to be regular Python objects which you may access/modify."
   ]
  },
  {
   "cell_type": "code",
   "execution_count": 3,
   "metadata": {},
   "outputs": [
    {
     "name": "stdout",
     "output_type": "stream",
     "text": [
      "'AlTar users' is going to be changed\n",
      "Hello pyre users!\n",
      "Hello pyre users!\n",
      "Hello pyre users!\n"
     ]
    }
   ],
   "source": [
    "print(f\"'{helloapp.who}' is going to be changed\")\n",
    "helloapp.who='pyre users'\n",
    "helloapp.main()"
   ]
  },
  {
   "cell_type": "markdown",
   "metadata": {},
   "source": [
    "You may also modify the [hello.pfg](hello.pfg) file for new configurations and re-run the program. Caveat: for jupyter/ipython, you may need to restart the kernel for new settings to be accepted."
   ]
  },
  {
   "cell_type": "markdown",
   "metadata": {},
   "source": [
    "### 3. Run HelloApp from command line\n",
    "\n",
    "AlTar/pyre applications are designed to run as regular shell applications, which offer more options to run with command line arguments."
   ]
  },
  {
   "cell_type": "code",
   "execution_count": 4,
   "metadata": {
    "scrolled": true
   },
   "outputs": [
    {
     "name": "stdout",
     "output_type": "stream",
     "text": [
      "Hello World!\r\n"
     ]
    }
   ],
   "source": [
    "# run hello app from a shell with cmdLine settings\n",
    "!python3 hello.py --who=\"World\" --times=1"
   ]
  },
  {
   "cell_type": "code",
   "execution_count": 5,
   "metadata": {
    "scrolled": true
   },
   "outputs": [
    {
     "name": "stdout",
     "output_type": "stream",
     "text": [
      "Hello pyre users!\r\n"
     ]
    }
   ],
   "source": [
    "# run hello app with a specified configuration file\n",
    "# hello2.pfg \n",
    "# ; application instance name\n",
    "# hello:\n",
    "##    ; configurations\n",
    "##    who = pyre users\n",
    "##    times = 1\n",
    "\n",
    "!python3 hello.py --config=hello2.pfg"
   ]
  },
  {
   "cell_type": "code",
   "execution_count": 6,
   "metadata": {},
   "outputs": [
    {
     "name": "stdout",
     "output_type": "stream",
     "text": [
      "Hello pyre users!\r\n",
      "Hello pyre users!\r\n"
     ]
    }
   ],
   "source": [
    "# run hello app with a mixed configuration file and cmdLine settings\n",
    "# pfg file settings will be overriden by the cmdLine ones\n",
    "!python3 hello.py --config=hello2.pfg --times=2"
   ]
  }
 ],
 "metadata": {
  "kernelspec": {
   "display_name": "Python 3",
   "language": "python",
   "name": "python3"
  },
  "language_info": {
   "codemirror_mode": {
    "name": "ipython",
    "version": 3
   },
   "file_extension": ".py",
   "mimetype": "text/x-python",
   "name": "python",
   "nbconvert_exporter": "python",
   "pygments_lexer": "ipython3",
   "version": "3.6.9"
  }
 },
 "nbformat": 4,
 "nbformat_minor": 2
}
